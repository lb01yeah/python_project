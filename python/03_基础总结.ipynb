{
 "cells": [
  {
   "cell_type": "code",
   "execution_count": 1,
   "metadata": {},
   "outputs": [
    {
     "name": "stdout",
     "output_type": "stream",
     "text": [
      "1 1 2 3 5 8 13 21 34 55 89 144 233 377 610 987 1597 2584 4181 6765 "
     ]
    }
   ],
   "source": [
    "\"\"\"\n",
    "输出斐波那契数列的前20个数\n",
    "1 1 2 3 5 8 13 21 ...\n",
    "Version: 0.1\n",
    "Author: 骆昊\n",
    "Date: 2018-03-02\n",
    "\"\"\"\n",
    "\n",
    "a = 0\n",
    "b = 1\n",
    "for _ in range(20):\n",
    "    (a, b) = (b, a + b)\n",
    "    print(a, end=' ')"
   ]
  },
  {
   "cell_type": "code",
   "execution_count": 12,
   "metadata": {},
   "outputs": [
    {
     "name": "stdout",
     "output_type": "stream",
     "text": [
      "请输入一个正整数: 123\n",
      "temp =  123\n",
      "num2 =  3\n",
      "temp =  12\n",
      "num2 =  32\n",
      "temp =  1\n",
      "num2 =  321\n",
      "123不是回文数\n"
     ]
    }
   ],
   "source": [
    "\"\"\"\n",
    "判断输入的正整数是不是回文数\n",
    "回文数是指将一个正整数从左往右排列和从右往左排列值一样的数\n",
    "Version: 0.1\n",
    "Author: 骆昊\n",
    "Date: 2018-03-02\n",
    "\"\"\"\n",
    "\n",
    "num = int(input('请输入一个正整数: '))\n",
    "temp = num\n",
    "num2 = 0\n",
    "while temp > 0:\n",
    "    num2 *= 10\n",
    "    print('temp = ',temp)\n",
    "    num2 += temp % 10\n",
    "    print('num2 = ',num2)\n",
    "    temp //= 10\n",
    "if num == num2:\n",
    "    print('%d是回文数' % num)\n",
    "else:\n",
    "    print('%d不是回文数' % num)"
   ]
  },
  {
   "cell_type": "code",
   "execution_count": null,
   "metadata": {},
   "outputs": [],
   "source": []
  },
  {
   "cell_type": "code",
   "execution_count": null,
   "metadata": {},
   "outputs": [],
   "source": []
  }
 ],
 "metadata": {
  "kernelspec": {
   "display_name": "Python 3",
   "language": "python",
   "name": "python3"
  },
  "language_info": {
   "codemirror_mode": {
    "name": "ipython",
    "version": 3
   },
   "file_extension": ".py",
   "mimetype": "text/x-python",
   "name": "python",
   "nbconvert_exporter": "python",
   "pygments_lexer": "ipython3",
   "version": "3.6.5"
  }
 },
 "nbformat": 4,
 "nbformat_minor": 2
}
