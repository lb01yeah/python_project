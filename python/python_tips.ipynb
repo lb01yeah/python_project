{
 "cells": [
  {
   "cell_type": "code",
   "execution_count": null,
   "metadata": {},
   "outputs": [],
   "source": [
    "# EAFP优于LBYL。\n",
    "#EAFP - Easier to Ask Forgiveness than Permission. 异常捕获优于权限检查\n",
    "#LBYL - Look Before You Leap. \n",
    "\n",
    "d = {'x': ''}\n",
    "print(type(d['x']))\n",
    "try:\n",
    "    value = int(d['x'])\n",
    "    print(type(value))\n",
    "    print(value)\n",
    "except (KeyError, TypeError, ValueError):\n",
    "    value = None\n",
    "print(value)\n",
    "\n",
    "# ---------不推荐-------------------\n",
    "d = {'x': '5'}\n",
    "if 'x' in d and isinstance(d['x'], str) \\\n",
    "\t\tand d['x'].isdigit():\n",
    "    value = int(d['x'])\n",
    "    print(value)\n",
    "else:\n",
    "    value = None"
   ]
  },
  {
   "cell_type": "code",
   "execution_count": null,
   "metadata": {},
   "outputs": [],
   "source": [
    "#使用enumerate进行迭代\n",
    "fruits = ['orange', 'grape', 'pitaya', 'blueberry']\n",
    "for index, fruit in enumerate(fruits):\n",
    "\tprint(index, ':', fruit)\n",
    "    \n",
    "# ------不好的代码：---------\n",
    "fruits = ['orange', 'grape', 'pitaya', 'blueberry']\n",
    "index = 0\n",
    "for fruit in fruits:\n",
    "    print(index, ':', fruit)\n",
    "    index += 1"
   ]
  },
  {
   "cell_type": "code",
   "execution_count": null,
   "metadata": {},
   "outputs": [],
   "source": [
    "# 用生成式生成列表\n",
    "data = [7, 20, 3, 15, 11]\n",
    "result = [num * 3 for num in data if num > 10]\n",
    "print(result)  # [60, 45, 33]\n",
    "\n",
    "#不好的代码：\n",
    "data = [7, 20, 3, 15, 11]\n",
    "result = []\n",
    "for i in data:\n",
    "    if i > 10:\n",
    "        result.append(i * 3)\n",
    "print(result)  # [60, 45, 33]"
   ]
  },
  {
   "cell_type": "code",
   "execution_count": null,
   "metadata": {},
   "outputs": [],
   "source": [
    "#用zip组合键和值来创建字典。\n",
    "\n",
    "#好的代码：\n",
    "\n",
    "keys = ['1001', '1002', '1003']\n",
    "values = ['骆昊', '王大锤', '白元芳']\n",
    "d = dict(zip(keys, values))\n",
    "print(d)\n",
    "#不好的代码：\n",
    "\n",
    "keys = ['1001', '1002', '1003']\n",
    "values = ['骆昊', '王大锤', '白元芳']\n",
    "d = {}\n",
    "for i, key in enumerate(keys):\n",
    "    d[key] = values[i]\n",
    "print(d)"
   ]
  },
  {
   "cell_type": "code",
   "execution_count": null,
   "metadata": {},
   "outputs": [],
   "source": [
    "a = int(input('a = '))\n",
    "b = int(input('b = '))\n",
    "c = int(input('c = '))\n",
    "the_max = a if a > b else b\n",
    "the_max = c if c > the_max else the_max\n",
    "print('The max is:', the_max)"
   ]
  },
  {
   "cell_type": "markdown",
   "metadata": {},
   "source": [
    "#### 坑1 - 整数比较的坑\n",
    "在 Python 中一切都是对象，整数也是对象，在比较两个整数时有两个运算符==和is，它们的区别是：  \n",
    "\n",
    "- is比较的是两个整数对象的id值是否相等，也就是比较两个引用是否代表了内存中同一个地址。\n",
    "- ==比较的是两个整数对象的内容是否相等，使用==时其实是调用了对象的__eq__()方法。"
   ]
  },
  {
   "cell_type": "code",
   "execution_count": null,
   "metadata": {},
   "outputs": [],
   "source": [
    "def main():\n",
    "\tx = y = -1\n",
    "\twhile True:\n",
    "\t\tx += 1\n",
    "\t\ty += 1\n",
    "\t\tif x is y:\n",
    "\t\t\tprint('%d is %d' % (x, y))\n",
    "\t\telse:\n",
    "\t\t\tprint('Attention! %d is not %d' % (x, y))\n",
    "\t\t\tbreak\n",
    "\t\t\t\n",
    "\tx = y = 0\n",
    "\twhile True:\n",
    "\t\tx -= 1\n",
    "\t\ty -= 1\n",
    "\t\tif x is y:\n",
    "\t\t\tprint('%d is %d' % (x, y))\n",
    "\t\telse:\n",
    "\t\t\tprint('Attention! %d is not %d' % (x, y))\n",
    "\t\t\tbreak\n",
    "\n",
    "\n",
    "if __name__ == '__main__':\n",
    "\tmain()"
   ]
  },
  {
   "cell_type": "markdown",
   "metadata": {},
   "source": [
    "为了验证刚刚的结论，我们可以借用dis模块（听名字就知道是进行反汇编的模块）从字节码的角度来看看这段代码。如果不理解什么是字节码，可以先看看《谈谈 Python 程序的运行原理》这篇文章。可以先用import dis导入dis模块并按照如下所示的方式修改代码。\n",
    "```\n",
    "import dis\n",
    "if __name__ == \"__main__\":\n",
    "\tmain()\n",
    "\tdis.dis(main)\n",
    "\n",
    "```\n"
   ]
  },
  {
   "cell_type": "markdown",
   "metadata": {},
   "source": [
    "### 坑2 - 嵌套列表的坑\n",
    "    #以下为正确写法2\n",
    "    #scores = [[0] * 3 for _ in range(5)]\n",
    "    "
   ]
  },
  {
   "cell_type": "code",
   "execution_count": null,
   "metadata": {},
   "outputs": [],
   "source": [
    "def main():\n",
    "\tnames = ['关羽', '张飞', '赵云', '马超', '黄忠']\n",
    "\tsubjs = ['语文', '数学', '英语']\n",
    "\t#scores = [[0] * 3] * 5      --->错误写法\n",
    "    #---->以下正确写法1\n",
    "    scores = [[]] * 5\n",
    "    for row, name in enumerate(names):\n",
    "        print('请输入%s的成绩' % name)\n",
    "        #   --->对应正确写法1\n",
    "        scores[row] = [0] * 3 \n",
    "\t\tfor col, subj in enumerate(subjs):\n",
    "\t\t\tscores[row][col] = float(input(subj + ': '))\n",
    "\tprint(scores)\n",
    "\n",
    "\n",
    "if __name__ == '__main__':\n",
    "\tmain()"
   ]
  },
  {
   "cell_type": "code",
   "execution_count": null,
   "metadata": {},
   "outputs": [],
   "source": [
    "#以下为正确写法2\n",
    "def main():\n",
    "\tnames = ['关羽', '张飞', '赵云', '马超', '黄忠']\n",
    "\tsubjs = ['语文', '数学', '英语']\n",
    "\tscores = [[0] * 3 for _ in range(5)]\n",
    "\tfor row, name in enumerate(names):\n",
    "\t\tprint('请输入%s的成绩' % name)\n",
    "\t\tscores[row] = [0] * 3\n",
    "\t\tfor col, subj in enumerate(subjs):\n",
    "\t\t\tscores[row][col] = float(input(subj + ': '))\n",
    "\tprint(scores)\n",
    "\n",
    "\n",
    "if __name__ == '__main__':\n",
    "\tmain()"
   ]
  },
  {
   "cell_type": "markdown",
   "metadata": {},
   "source": [
    "##### 坑3 - 访问修饰符的坑\n",
    "用Python做过面向对象编程的人都知道，Python的类提供了两种访问控制权限，一种是公开，一种是私有（在属性或方法前加上双下划线）。而用惯了Java或C#这类编程语言的人都知道，类中的属性（数据抽象）通常都是私有的，其目的是为了将数据保护起来；而类中的方法（行为抽象）通常都是公开的，因为方法是对象向外界提供的服务。但是Python并没有从语法层面确保私有成员的私密性，因为它只是对类中所谓的私有成员进行了命名的变换，如果知道命名的规则照样可以直接访问私有成员，请看下面的代码。\n",
    "\n",
    "Python为什么要做出这样的设定呢？用一句广为流传的格言来解释这个问题：“We are all consenting adults here”（我们都是成年人）。这句话表达了很多Python程序员的一个共同观点，那就是开放比封闭要好，我们应该自己对自己的行为负责而不是从语言层面来限制对数据或方法的访问。\n",
    "\n",
    "所以在Python中我们实在没有必要将类中的属性或方法用双下划线开头的命名处理成私有的成员，因为这并没有任何实际的意义。如果想对属性或方法进行保护，我们建议用单下划线开头的受保护成员，虽然它也不能真正保护这些属性或方法，但是它相当于给调用者一个暗示，让调用者知道这是不应该直接访问的属性或方法，而且这样做并不影响子类去继承这些东西。\n",
    "\n",
    "需要提醒大家注意的是，Python类中的那些魔法方法，如__str__、__repr__等，这些方法并不是私有成员哦，虽然它们以双下划线开头，但是他们也是以双下划线结尾的，这种命名并不是私有成员的命名，这一点对初学者来说真的很坑。"
   ]
  },
  {
   "cell_type": "code",
   "execution_count": null,
   "metadata": {},
   "outputs": [],
   "source": [
    "class Student(object):\n",
    "\n",
    "    def __init__(self, name, age):\n",
    "        self.__name = name\n",
    "        self.__age = age\n",
    "\n",
    "    def __str__(self):\n",
    "        return self.__name + ': ' + str(self.__age)\n",
    "\n",
    "\n",
    "def main():\n",
    "    stu = Student('骆昊', 38)\n",
    "    # 'Student' object has no attribute '__name'\n",
    "    # print(stu.__name)\n",
    "    # 用下面的方式照样可以访问类中的私有成员\n",
    "    print(stu._Student__name)\n",
    "    print(stu._Student__age)\n",
    "\n",
    "\n",
    "if __name__ == '__main__':\n",
    "    main()"
   ]
  },
  {
   "cell_type": "code",
   "execution_count": 5,
   "metadata": {},
   "outputs": [],
   "source": [
    "import turtle\n",
    "\n",
    "turtle.pensize(14)\n",
    "turtle.pencolor('red')\n",
    "turtle.forward(100)\n",
    "turtle.right(90)\n",
    "turtle.forward(100)\n",
    "turtle.right(90)\n",
    "turtle.forward(100)\n",
    "turtle.right(90)\n",
    "turtle.forward(100)\n",
    "turtle.mainloop()"
   ]
  },
  {
   "cell_type": "code",
   "execution_count": null,
   "metadata": {},
   "outputs": [],
   "source": []
  }
 ],
 "metadata": {
  "kernelspec": {
   "display_name": "Python 3",
   "language": "python",
   "name": "python3"
  },
  "language_info": {
   "codemirror_mode": {
    "name": "ipython",
    "version": 3
   },
   "file_extension": ".py",
   "mimetype": "text/x-python",
   "name": "python",
   "nbconvert_exporter": "python",
   "pygments_lexer": "ipython3",
   "version": "3.6.5"
  }
 },
 "nbformat": 4,
 "nbformat_minor": 2
}
