{
 "cells": [
  {
   "cell_type": "code",
   "execution_count": 88,
   "metadata": {},
   "outputs": [
    {
     "name": "stdout",
     "output_type": "stream",
     "text": [
      "<class 'numpy.ndarray'>\n",
      "3\n",
      "3\n"
     ]
    }
   ],
   "source": [
    "import pandas as pd\n",
    "import numpy as np\n",
    "data = [[-1,1,2],[-2,3,1],[4,0,3]]\n",
    "a=np.array(data)\n",
    "print(type(a))\n",
    "#输出行数\n",
    "print(a.shape[0])\n",
    "#输出列数\n",
    "print(a.shape[1])"
   ]
  },
  {
   "cell_type": "code",
   "execution_count": 99,
   "metadata": {},
   "outputs": [
    {
     "name": "stdout",
     "output_type": "stream",
     "text": [
      "[[0. 0. 0.]\n",
      " [0. 0. 0.]\n",
      " [0. 0. 0.]]\n",
      "[-1 -2  4]\n",
      "第0列的mean值:0.3333333333333333\n",
      "J:0 mean值:0.3333333333333333\n",
      "J:1 mean值:1.3333333333333333\n",
      "J:2 mean值:2.0\n",
      "[1 3 0]\n",
      "第1列的mean值:1.3333333333333333\n",
      "J:0 mean值:0.3333333333333333\n",
      "J:1 mean值:1.3333333333333333\n",
      "J:2 mean值:2.0\n",
      "[2 1 3]\n",
      "第2列的mean值:2.0\n",
      "J:0 mean值:0.3333333333333333\n",
      "J:1 mean值:1.3333333333333333\n",
      "J:2 mean值:2.0\n",
      "[[10.33333333 -4.16666667  3.        ]\n",
      " [-4.16666667  2.33333333 -1.5       ]\n",
      " [ 3.         -1.5         1.        ]]\n"
     ]
    }
   ],
   "source": [
    "c = np.zeros([a.shape[1], a.shape[1]])\n",
    "print(c)\n",
    "for i in range(a.shape[1]):\n",
    "    print(a[:,i])\n",
    "    print(\"第{0}列的mean值:{1}\".format(i,np.mean(a[:,i])))\n",
    "    #print(i)\n",
    "    \n",
    "    for j in range(a.shape[1]):\n",
    "        print(\"J:{0} mean值:{1}\".format(j,np.mean(a[:,j])))\n",
    "        c[i,j]=sum((a[:,i]-np.mean(a[:,i]))*(a[:,j]-np.mean(a[:,j])))/(a.shape[1]-1)\n",
    "#       print(c)\n",
    "\n",
    "print(c)"
   ]
  },
  {
   "cell_type": "code",
   "execution_count": 28,
   "metadata": {},
   "outputs": [
    {
     "name": "stdout",
     "output_type": "stream",
     "text": [
      "3\n",
      "当前水果 : banana\n",
      "当前水果 : apple\n",
      "当前水果 : mango\n",
      "Good bye!\n"
     ]
    }
   ],
   "source": [
    "fruits = ['banana', 'apple',  'mango']\n",
    "print(len(fruits))\n",
    "for index in range(len(fruits)):\n",
    "   print( '当前水果 :', fruits[index])\n",
    " \n",
    "print(\"Good bye!\")"
   ]
  },
  {
   "cell_type": "code",
   "execution_count": null,
   "metadata": {},
   "outputs": [],
   "source": []
  }
 ],
 "metadata": {
  "kernelspec": {
   "display_name": "Python 3",
   "language": "python",
   "name": "python3"
  },
  "language_info": {
   "codemirror_mode": {
    "name": "ipython",
    "version": 3
   },
   "file_extension": ".py",
   "mimetype": "text/x-python",
   "name": "python",
   "nbconvert_exporter": "python",
   "pygments_lexer": "ipython3",
   "version": "3.6.5"
  }
 },
 "nbformat": 4,
 "nbformat_minor": 2
}
